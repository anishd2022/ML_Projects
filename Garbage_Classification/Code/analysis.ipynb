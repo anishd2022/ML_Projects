{
 "cells": [
  {
   "cell_type": "markdown",
   "id": "ca162cd7",
   "metadata": {},
   "source": [
    "This file does some exploratory data analysis on the garbage dataset"
   ]
  },
  {
   "cell_type": "code",
   "execution_count": null,
   "id": "c42241e9",
   "metadata": {},
   "outputs": [
    {
     "name": "stdout",
     "output_type": "stream",
     "text": [
      "           filename  label\n",
      "0  cardboard202.jpg      3\n",
      "1      paper472.jpg      2\n",
      "2      paper522.jpg      2\n",
      "3      glass189.jpg      1\n",
      "4      glass325.jpg      1\n"
     ]
    }
   ],
   "source": [
    "# import pandas\n",
    "import pandas as pd\n",
    "\n",
    "# read in training dataset and print to see if structure is correct:\n",
    "train_df = pd.read_csv(\"../Data/one-indexed-files-notrash_train.txt\", sep=\" \", header=None, names=[\"filename\", \"label\"])\n",
    "print(train_df.head())"
   ]
  },
  {
   "cell_type": "code",
   "execution_count": 4,
   "id": "30c295bc",
   "metadata": {},
   "outputs": [],
   "source": [
    "# read in validation and training set:\n",
    "val_df = pd.read_csv(\"../Data/one-indexed-files-notrash_val.txt\", sep=\" \", header=None, names=[\"filename\", \"label\"])\n",
    "test_df = pd.read_csv(\"../Data/one-indexed-files-notrash_test.txt\", sep=\" \", header=None, names=[\"filename\", \"label\"])"
   ]
  }
 ],
 "metadata": {
  "kernelspec": {
   "display_name": "venv",
   "language": "python",
   "name": "python3"
  },
  "language_info": {
   "codemirror_mode": {
    "name": "ipython",
    "version": 3
   },
   "file_extension": ".py",
   "mimetype": "text/x-python",
   "name": "python",
   "nbconvert_exporter": "python",
   "pygments_lexer": "ipython3",
   "version": "3.12.8"
  }
 },
 "nbformat": 4,
 "nbformat_minor": 5
}
