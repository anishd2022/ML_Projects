{
 "cells": [
  {
   "cell_type": "markdown",
   "id": "ca162cd7",
   "metadata": {},
   "source": [
    "This file does some exploratory data analysis on the garbage dataset"
   ]
  },
  {
   "cell_type": "code",
   "execution_count": null,
   "id": "c42241e9",
   "metadata": {},
   "outputs": [
    {
     "name": "stdout",
     "output_type": "stream",
     "text": [
      "           filename  label\n",
      "0  cardboard202.jpg      3\n",
      "1      paper472.jpg      2\n",
      "2      paper522.jpg      2\n",
      "3      glass189.jpg      1\n",
      "4      glass325.jpg      1\n"
     ]
    }
   ],
   "source": [
    "# import pandas\n",
    "import pandas as pd\n",
    "\n",
    "# read in training dataset and print to see if structure is correct:\n",
    "train_df = pd.read_csv(\"../Data/one-indexed-files-notrash_train.txt\", sep=\" \", header=None, names=[\"filename\", \"label\"])\n",
    "print(train_df.head())"
   ]
  },
  {
   "cell_type": "code",
   "execution_count": 4,
   "id": "30c295bc",
   "metadata": {},
   "outputs": [],
   "source": [
    "# read in validation and training set:\n",
    "val_df = pd.read_csv(\"../Data/one-indexed-files-notrash_val.txt\", sep=\" \", header=None, names=[\"filename\", \"label\"])\n",
    "test_df = pd.read_csv(\"../Data/one-indexed-files-notrash_test.txt\", sep=\" \", header=None, names=[\"filename\", \"label\"])"
   ]
  },
  {
   "cell_type": "markdown",
   "id": "689ec29b",
   "metadata": {},
   "source": [
    "## Exploratory Data Analysis:"
   ]
  },
  {
   "cell_type": "code",
   "execution_count": 5,
   "id": "57441632",
   "metadata": {},
   "outputs": [
    {
     "name": "stdout",
     "output_type": "stream",
     "text": [
      "1768 328 431\n",
      "label\n",
      "2    403\n",
      "1    354\n",
      "4    347\n",
      "3    287\n",
      "5    286\n",
      "6     91\n",
      "Name: count, dtype: int64\n",
      "label\n",
      "2    83\n",
      "1    65\n",
      "4    61\n",
      "5    56\n",
      "3    46\n",
      "6    17\n",
      "Name: count, dtype: int64\n",
      "label\n",
      "2    108\n",
      "1     82\n",
      "4     74\n",
      "3     70\n",
      "5     68\n",
      "6     29\n",
      "Name: count, dtype: int64\n"
     ]
    }
   ],
   "source": [
    "# Look at dataset sizes\n",
    "print(len(train_df), len(val_df), len(test_df))\n",
    "\n",
    "# Check label distribution\n",
    "print(train_df['label'].value_counts())\n",
    "print(val_df['label'].value_counts())\n",
    "print(test_df['label'].value_counts())"
   ]
  },
  {
   "cell_type": "markdown",
   "id": "968393ce",
   "metadata": {},
   "source": [
    "Now we experiment with a simple CNN in PyTorch"
   ]
  },
  {
   "cell_type": "code",
   "execution_count": 7,
   "id": "ef58642f",
   "metadata": {},
   "outputs": [],
   "source": [
    "# import libraries\n",
    "import os\n",
    "import pandas as pd\n",
    "from PIL import Image\n",
    "from torch.utils.data import Dataset, DataLoader\n",
    "import torch\n",
    "import torch.nn as nn\n",
    "import torch.nn.functional as F\n",
    "import torchvision.transforms as transforms"
   ]
  },
  {
   "cell_type": "code",
   "execution_count": 9,
   "id": "02187fbf",
   "metadata": {},
   "outputs": [],
   "source": [
    "# define garbage dataset class:\n",
    "class GarbageDataset(Dataset):\n",
    "    # constructor\n",
    "    def __init__(self, df, img_dir, transform=None):\n",
    "        self.df = df.reset_index(drop=True)\n",
    "        self.img_dir = img_dir\n",
    "        self.transform = transform\n",
    "    \n",
    "    # get length of dataset\n",
    "    def __len__(self):\n",
    "        return len(self.df)\n",
    "    \n",
    "    # get item from images\n",
    "    def __getitem__(self, idx):\n",
    "        img_name = self.df.loc[idx, 'filename']\n",
    "        label = self.df.loc[idx, 'label'] - 1  # assuming labels start at 1\n",
    "        img_path = os.path.join(self.img_dir, img_name)\n",
    "        image = Image.open(img_path).convert(\"RGB\")\n",
    "        if self.transform:\n",
    "            image = self.transform(image)\n",
    "        return image, label\n",
    "\n"
   ]
  },
  {
   "cell_type": "code",
   "execution_count": 17,
   "id": "5118682e",
   "metadata": {},
   "outputs": [],
   "source": [
    "# transform images to a consistent size and pattern for easier processing\n",
    "transform = transforms.Compose([\n",
    "    transforms.Resize((128, 128)),  # keep it small for now\n",
    "    transforms.ToTensor(),\n",
    "    transforms.Normalize(mean=[0.5, 0.5, 0.5], std=[0.5, 0.5, 0.5])\n",
    "])"
   ]
  },
  {
   "cell_type": "code",
   "execution_count": 19,
   "id": "9a4354b5",
   "metadata": {},
   "outputs": [
    {
     "name": "stdout",
     "output_type": "stream",
     "text": [
      "Dataset length: 1768\n",
      "Label: 2\n",
      "Image shape: torch.Size([3, 128, 128])\n"
     ]
    }
   ],
   "source": [
    "img_directory = \"../Data/Images/\"\n",
    "dataset = GarbageDataset(train_df, img_directory, transform=transform)\n",
    "\n",
    "# Test length\n",
    "print(f\"Dataset length: {len(dataset)}\")   \n",
    "\n",
    "# Test __getitem__ by fetching first item\n",
    "image, label = dataset[0]\n",
    "print(f\"Label: {label}\")\n",
    "print(f\"Image shape: {image.shape}\")\n"
   ]
  },
  {
   "cell_type": "code",
   "execution_count": 21,
   "id": "2796863b",
   "metadata": {},
   "outputs": [],
   "source": [
    "# begin data loading:\n",
    "train_loader = DataLoader(dataset, batch_size=32, shuffle=True)\n",
    "\n",
    "\n",
    "class SimpleCNN(nn.Module):\n",
    "    def __init__(self, num_classes=6):  # adjust to your number of classes\n",
    "        super(SimpleCNN, self).__init__()\n",
    "        self.conv1 = nn.Conv2d(3, 16, kernel_size=3, padding=1)\n",
    "        self.pool = nn.MaxPool2d(2, 2)\n",
    "        self.conv2 = nn.Conv2d(16, 32, kernel_size=3, padding=1)\n",
    "        self.fc1 = nn.Linear(32 * 32 * 32, 128)\n",
    "        self.fc2 = nn.Linear(128, num_classes)\n",
    "\n",
    "    def forward(self, x):\n",
    "        x = self.pool(F.relu(self.conv1(x)))  # [B, 16, 64, 64]\n",
    "        x = self.pool(F.relu(self.conv2(x)))  # [B, 32, 32, 32]\n",
    "        x = x.view(-1, 32 * 32 * 32)          # flatten\n",
    "        x = F.relu(self.fc1(x))\n",
    "        x = self.fc2(x)\n",
    "        return x"
   ]
  },
  {
   "cell_type": "code",
   "execution_count": 25,
   "id": "fe9411bb",
   "metadata": {},
   "outputs": [],
   "source": [
    "# prep model for training\n",
    "model = SimpleCNN(num_classes=6)  # set 6 classes for 6 different types of garbage\n",
    "criterion = nn.CrossEntropyLoss()   # set loss function to be cross entropy loss (ideal for classification algorithms)\n",
    "optimizer = torch.optim.Adam(model.parameters(), lr=0.001)   "
   ]
  },
  {
   "cell_type": "code",
   "execution_count": 26,
   "id": "363834aa",
   "metadata": {},
   "outputs": [
    {
     "name": "stdout",
     "output_type": "stream",
     "text": [
      "Epoch 1, Loss: 87.6353\n",
      "Epoch 2, Loss: 64.7862\n",
      "Epoch 3, Loss: 49.6210\n",
      "Epoch 4, Loss: 39.0917\n",
      "Epoch 5, Loss: 29.6540\n",
      "Epoch 6, Loss: 18.7557\n",
      "Epoch 7, Loss: 12.8286\n",
      "Epoch 8, Loss: 8.2675\n",
      "Epoch 9, Loss: 5.4356\n",
      "Epoch 10, Loss: 3.5676\n"
     ]
    }
   ],
   "source": [
    "device = torch.device(\"cuda\" if torch.cuda.is_available() else \"cpu\")\n",
    "model = model.to(device)\n",
    "\n",
    "epoch_losses = []\n",
    "\n",
    "for epoch in range(10):  # num_epochs\n",
    "    model.train()\n",
    "    running_loss = 0.0\n",
    "    for images, labels in train_loader:\n",
    "        images, labels = images.to(device), labels.to(device)\n",
    "\n",
    "        optimizer.zero_grad()\n",
    "        outputs = model(images)\n",
    "        loss = criterion(outputs, labels)\n",
    "        loss.backward()\n",
    "        optimizer.step()\n",
    "\n",
    "        running_loss += loss.item()\n",
    "        \n",
    "    epoch_losses.append(running_loss)\n",
    "    print(f\"Epoch {epoch+1}, Loss: {running_loss:.4f}\")"
   ]
  },
  {
   "cell_type": "code",
   "execution_count": 28,
   "id": "368bc08f",
   "metadata": {},
   "outputs": [
    {
     "data": {
      "image/png": "[encoded data removed]",
      "text/plain": [
       "<Figure size 640x480 with 1 Axes>"
      ]
     },
     "metadata": {},
     "output_type": "display_data"
    }
   ],
   "source": [
    "import matplotlib.pyplot as plt\n",
    "\n",
    "plt.plot(range(1, len(epoch_losses)+1), epoch_losses, marker='o')\n",
    "plt.title(\"Training Loss per Epoch\")\n",
    "plt.xlabel(\"Epoch\")\n",
    "plt.ylabel(\"Loss\")\n",
    "plt.grid(True)\n",
    "plt.show()"
   ]
  },
  {
   "cell_type": "code",
   "execution_count": 29,
   "id": "9138d4d6",
   "metadata": {},
   "outputs": [],
   "source": [
    "# prepare validation and test sets:\n",
    "val_dataset = GarbageDataset(val_df, img_directory, transform=transform)\n",
    "test_dataset = GarbageDataset(test_df, img_directory, transform=transform)\n",
    "\n",
    "val_loader = DataLoader(val_dataset, batch_size=32, shuffle=False)\n",
    "test_loader = DataLoader(test_dataset, batch_size=32, shuffle=False)"
   ]
  },
  {
   "cell_type": "code",
   "execution_count": 30,
   "id": "c577f7ed",
   "metadata": {},
   "outputs": [],
   "source": [
    "# function to evaluate model on a new set of data (either validation or test set)\n",
    "def evaluate(model, dataloader, device):\n",
    "    model.eval()\n",
    "    correct = 0\n",
    "    total = 0\n",
    "\n",
    "    with torch.no_grad():\n",
    "        for images, labels in dataloader:\n",
    "            images, labels = images.to(device), labels.to(device)\n",
    "            outputs = model(images)\n",
    "            _, predicted = torch.max(outputs, 1)\n",
    "            correct += (predicted == labels).sum().item()\n",
    "            total += labels.size(0)\n",
    "\n",
    "    accuracy = correct / total\n",
    "    return accuracy\n"
   ]
  },
  {
   "cell_type": "code",
   "execution_count": 33,
   "id": "c5731c81",
   "metadata": {},
   "outputs": [
    {
     "name": "stdout",
     "output_type": "stream",
     "text": [
      "Validation Accuracy: 0.6738\n"
     ]
    }
   ],
   "source": [
    "# evaluate model on validation set:\n",
    "val_acc = evaluate(model, val_loader, device)\n",
    "print(f\"Validation Accuracy: {val_acc:.4f}\")"
   ]
  },
  {
   "cell_type": "code",
   "execution_count": 35,
   "id": "c5e220a0",
   "metadata": {},
   "outputs": [
    {
     "name": "stdout",
     "output_type": "stream",
     "text": [
      "Classification Report:\n",
      "              precision    recall  f1-score   support\n",
      "\n",
      "           0       0.70      0.65      0.67        65\n",
      "           1       0.86      0.78      0.82        83\n",
      "           2       0.70      0.85      0.76        46\n",
      "           3       0.57      0.52      0.55        61\n",
      "           4       0.53      0.59      0.56        56\n",
      "           5       0.56      0.59      0.57        17\n",
      "\n",
      "    accuracy                           0.67       328\n",
      "   macro avg       0.65      0.66      0.66       328\n",
      "weighted avg       0.68      0.67      0.67       328\n",
      "\n",
      "Confusion Matrix:\n",
      "[[42  3  1  9  9  1]\n",
      " [ 2 65  5  4  6  1]\n",
      " [ 1  1 39  4  1  0]\n",
      " [ 7  5  4 32 10  3]\n",
      " [ 6  2  7  5 33  3]\n",
      " [ 2  0  0  2  3 10]]\n"
     ]
    }
   ],
   "source": [
    "from sklearn.metrics import classification_report, confusion_matrix\n",
    "import numpy as np\n",
    "\n",
    "def get_preds_and_labels(model, dataloader, device):\n",
    "    model.eval()\n",
    "    all_preds = []\n",
    "    all_labels = []\n",
    "\n",
    "    with torch.no_grad():\n",
    "        for images, labels in dataloader:\n",
    "            images = images.to(device)\n",
    "            outputs = model(images)\n",
    "            _, preds = torch.max(outputs, 1)\n",
    "            all_preds.extend(preds.cpu().numpy())\n",
    "            all_labels.extend(labels.numpy())\n",
    "    \n",
    "    return np.array(all_preds), np.array(all_labels)\n",
    "\n",
    "preds, labels = get_preds_and_labels(model, val_loader, device)\n",
    "\n",
    "print(\"Classification Report:\")\n",
    "print(classification_report(labels, preds))\n",
    "\n",
    "print(\"Confusion Matrix:\")\n",
    "print(confusion_matrix(labels, preds))"
   ]
  }
 ],
 "metadata": {
  "kernelspec": {
   "display_name": "venv",
   "language": "python",
   "name": "python3"
  },
  "language_info": {
   "codemirror_mode": {
    "name": "ipython",
    "version": 3
   },
   "file_extension": ".py",
   "mimetype": "text/x-python",
   "name": "python",
   "nbconvert_exporter": "python",
   "pygments_lexer": "ipython3",
   "version": "3.12.8"
  }
 },
 "nbformat": 4,
 "nbformat_minor": 5
}
